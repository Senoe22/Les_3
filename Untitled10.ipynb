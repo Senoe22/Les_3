{
 "cells": [
  {
   "cell_type": "code",
   "execution_count": 20,
   "metadata": {},
   "outputs": [
    {
     "data": {
      "text/plain": [
       "{'1840e0b9d4': 'Продукты',\n",
       " '4e4f90fcfb': 'Электроника',\n",
       " 'afea8d72fc': 'Электроника',\n",
       " '373a6055fe': 'Бытовая техника',\n",
       " '9b2ab046f3': 'Электроника',\n",
       " '9f39d307c3': 'Электроника',\n",
       " '44edeffc91': 'Продукты',\n",
       " '704474fa2d': 'Продукты',\n",
       " '1de31be403': 'Бытовая техника',\n",
       " 'b71f36a5e4': 'Продукты',\n",
       " '79843a685a': 'Продукты',\n",
       " 'ff68cee0d6': 'Бытовая техника'}"
      ]
     },
     "execution_count": 20,
     "metadata": {},
     "output_type": "execute_result"
    }
   ],
   "source": [
    "# Задача 1. Необходимо перевести в словарь вида: {'1840e0b9d4':'Продукты', ...}\n",
    "new_dict = {}\n",
    "i = 0\n",
    "with open ('purchase_log.txt', encoding='utf-8') as f:\n",
    "    next(f)\n",
    "    for line in f:\n",
    "        line=line.strip()\n",
    "        dict_=json.loads(line)\n",
    "        new_dict[dict_['user_id']] = dict_['category']\n",
    "        if i>10:\n",
    "            break\n",
    "        i += 1\n",
    "f.close()\n",
    "new_dict\n"
   ]
  },
  {
   "cell_type": "code",
   "execution_count": 67,
   "metadata": {
    "scrolled": false
   },
   "outputs": [
    {
     "ename": "IndexError",
     "evalue": "list index out of range",
     "output_type": "error",
     "traceback": [
      "\u001b[1;31m---------------------------------------------------------------------------\u001b[0m",
      "\u001b[1;31mIndexError\u001b[0m                                Traceback (most recent call last)",
      "\u001b[1;32m<ipython-input-67-5acf127a5c01>\u001b[0m in \u001b[0;36m<module>\u001b[1;34m\u001b[0m\n\u001b[0;32m     16\u001b[0m     \u001b[1;32mfor\u001b[0m \u001b[0mline1\u001b[0m \u001b[1;32min\u001b[0m \u001b[0mf1\u001b[0m\u001b[1;33m:\u001b[0m\u001b[1;33m\u001b[0m\u001b[1;33m\u001b[0m\u001b[0m\n\u001b[0;32m     17\u001b[0m         \u001b[0mnew_list\u001b[0m\u001b[1;33m=\u001b[0m\u001b[0mline1\u001b[0m\u001b[1;33m.\u001b[0m\u001b[0mstrip\u001b[0m\u001b[1;33m(\u001b[0m\u001b[1;33m)\u001b[0m\u001b[1;33m.\u001b[0m\u001b[0msplit\u001b[0m\u001b[1;33m(\u001b[0m\u001b[1;34m','\u001b[0m\u001b[1;33m)\u001b[0m\u001b[1;33m\u001b[0m\u001b[1;33m\u001b[0m\u001b[0m\n\u001b[1;32m---> 18\u001b[1;33m         \u001b[1;32mif\u001b[0m \u001b[0mdict_\u001b[0m\u001b[1;33m[\u001b[0m\u001b[1;34m'user_id'\u001b[0m\u001b[1;33m]\u001b[0m \u001b[1;33m==\u001b[0m \u001b[0mstr\u001b[0m\u001b[1;33m(\u001b[0m\u001b[0mnew_list\u001b[0m\u001b[1;33m[\u001b[0m\u001b[0mi\u001b[0m\u001b[1;33m]\u001b[0m\u001b[1;33m[\u001b[0m\u001b[1;36m0\u001b[0m\u001b[1;33m]\u001b[0m\u001b[1;33m)\u001b[0m\u001b[1;33m:\u001b[0m\u001b[1;33m\u001b[0m\u001b[1;33m\u001b[0m\u001b[0m\n\u001b[0m\u001b[0;32m     19\u001b[0m             \u001b[0mdict_\u001b[0m\u001b[1;33m[\u001b[0m\u001b[1;34m'category'\u001b[0m\u001b[1;33m]\u001b[0m\u001b[1;33m=\u001b[0m\u001b[0mnew_list\u001b[0m\u001b[1;33m[\u001b[0m\u001b[0mi\u001b[0m\u001b[1;33m]\u001b[0m\u001b[1;33m[\u001b[0m\u001b[1;36m2\u001b[0m\u001b[1;33m]\u001b[0m\u001b[1;33m\u001b[0m\u001b[1;33m\u001b[0m\u001b[0m\n\u001b[0;32m     20\u001b[0m         \u001b[0mi\u001b[0m \u001b[1;33m+=\u001b[0m \u001b[1;36m1\u001b[0m\u001b[1;33m\u001b[0m\u001b[1;33m\u001b[0m\u001b[0m\n",
      "\u001b[1;31mIndexError\u001b[0m: list index out of range"
     ]
    }
   ],
   "source": [
    "new_dict = {}\n",
    "i = 0\n",
    "with open ('purchase_log.txt', encoding='utf-8') as f:\n",
    "    next(f)\n",
    "    for line in f:\n",
    "        line=line.strip()\n",
    "        dict_=json.loads(line)\n",
    "        new_dict[dict_['user_id']] = dict_['category']\n",
    "        i += 1\n",
    "    f.close()\n",
    "\n",
    "new_list = []\n",
    "i = 0\n",
    "with open ('visit_log.csv') as f1:\n",
    "    next(f1)\n",
    "    for line1 in f1:\n",
    "        new_list=line1.strip().split(',')\n",
    "        if dict_['user_id'] == new_list[i][0]:\n",
    "            dict_['category']=new_list[i][2]\n",
    "        i += 1"
   ]
  },
  {
   "cell_type": "code",
   "execution_count": 10,
   "metadata": {},
   "outputs": [],
   "source": [
    "# Задача 2 \n",
    "new_dict = {}\n",
    "#i = 0\n",
    "with open ('purchase_log.txt', encoding='utf-8') as f:\n",
    "    next(f)\n",
    "    for line in f:\n",
    "        line=line.strip()\n",
    "        dict_=json.loads(line)\n",
    "        new_dict[dict_['user_id']] = dict_['category']\n",
    "f.close()\n",
    "\n",
    "i = 0\n",
    "res = str()\n",
    "with open ('visit_log.csv') as f1:\n",
    "    f2 = open('funnel.csv', 'w')\n",
    "    next(f1)\n",
    "    for line1 in f1:\n",
    "        for key, values in new_dict.items():\n",
    "            if key in line1 and values != 'не определена':\n",
    "                res = line1.strip('\\n') + ', ' + values + '\\n'\n",
    "                f2.write(res)\n",
    "        i += 1\n",
    "        if i > 200:\n",
    "            break\n",
    "    f2.close()\n",
    "f1.close()"
   ]
  },
  {
   "cell_type": "code",
   "execution_count": 25,
   "metadata": {},
   "outputs": [
    {
     "name": "stdout",
     "output_type": "stream",
     "text": [
      "704474fa2d,other,Продукты\n"
     ]
    }
   ],
   "source": [
    "new_d = {'1840e0b9d4': 'Продукты',\n",
    " '4e4f90fcfb': 'Электроника'\n",
    " 'afea8d72fc': 'Электроника',\n",
    " '373a6055fe': 'Бытовая техника',\n",
    " '9b2ab046f3': 'Электроника',\n",
    " '9f39d307c3': 'Электроника',\n",
    " '44edeffc91': 'Продукты',\n",
    " '704474fa2d': 'Продукты',\n",
    " '1de31be403': 'Бытовая техника',\n",
    " 'b71f36a5e4': 'Продукты',\n",
    " '79843a685a': 'Продукты',\n",
    " 'ff68cee0d6': 'Бытовая техника'}\n",
    "lin = '704474fa2d,other'\n",
    "for key, values in new_d.items():\n",
    "    if key in lin:\n",
    "        print(lin + ', '+ values)"
   ]
  },
  {
   "cell_type": "code",
   "execution_count": 3,
   "metadata": {},
   "outputs": [
    {
     "name": "stdout",
     "output_type": "stream",
     "text": [
      "Есть\n"
     ]
    }
   ],
   "source": [
    "doc = {'type': 'passport', 'number': '2207876234', 'name': 'Василий Гупкин'}\n",
    "for key, value in doc.items():\n",
    "    if key == 'number':\n",
    "        print('Есть')\n"
   ]
  },
  {
   "cell_type": "code",
   "execution_count": 5,
   "metadata": {},
   "outputs": [
    {
     "data": {
      "text/plain": [
       "'Снег Идет'"
      ]
     },
     "execution_count": 5,
     "metadata": {},
     "output_type": "execute_result"
    }
   ],
   "source": [
    "# Сложение строк\n",
    "a = 'Снег'\n",
    "b = 'Идет'\n",
    "a+' '+ b"
   ]
  },
  {
   "cell_type": "code",
   "execution_count": null,
   "metadata": {},
   "outputs": [],
   "source": [
    "# Запись содержимого со 2 строки из visit в results\n",
    "with open ('visit_log.csv') as f1:\n",
    "    next(f1)\n",
    "    f = open('results.csv', 'w')\n",
    "    for line1 in f1:\n",
    "         f.write(line1)\n",
    "    f.close()\n",
    "f1.close()"
   ]
  },
  {
   "cell_type": "code",
   "execution_count": 2,
   "metadata": {},
   "outputs": [],
   "source": [
    "# Запись в файл\n",
    "f = open('results.csv', 'w')\n",
    "f.write('Привет\\n')\n",
    "f.write('Пока\\n')\n",
    "f.close()"
   ]
  },
  {
   "cell_type": "code",
   "execution_count": 37,
   "metadata": {},
   "outputs": [
    {
     "name": "stdout",
     "output_type": "stream",
     "text": [
      "user_id,source\n",
      "\n",
      "6450655ae8,other\n",
      "\n",
      "b4ea53e670,other\n",
      "\n",
      "0e37347152,other\n",
      "\n"
     ]
    }
   ],
   "source": [
    "i = 0\n",
    "with open ('visit_log.csv') as f:\n",
    "    for line in f:\n",
    "        print(line)\n",
    "        i += 1\n",
    "        if i>3:\n",
    "            break"
   ]
  },
  {
   "cell_type": "code",
   "execution_count": 1,
   "metadata": {
    "scrolled": true
   },
   "outputs": [],
   "source": [
    "import json"
   ]
  },
  {
   "cell_type": "code",
   "execution_count": null,
   "metadata": {},
   "outputs": [],
   "source": [
    "import sys"
   ]
  }
 ],
 "metadata": {
  "kernelspec": {
   "display_name": "Python 3",
   "language": "python",
   "name": "python3"
  },
  "language_info": {
   "codemirror_mode": {
    "name": "ipython",
    "version": 3
   },
   "file_extension": ".py",
   "mimetype": "text/x-python",
   "name": "python",
   "nbconvert_exporter": "python",
   "pygments_lexer": "ipython3",
   "version": "3.8.3"
  }
 },
 "nbformat": 4,
 "nbformat_minor": 4
}
